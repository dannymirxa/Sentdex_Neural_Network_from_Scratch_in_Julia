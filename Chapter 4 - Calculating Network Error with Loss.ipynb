{
 "cells": [
  {
   "cell_type": "code",
   "execution_count": 1,
   "id": "3146ea87-323d-4a84-867a-16f5d3fd5568",
   "metadata": {},
   "outputs": [],
   "source": [
    "using Statistics"
   ]
  },
  {
   "cell_type": "code",
   "execution_count": 2,
   "id": "589f8450-fc25-4895-9f9b-d6f97ead1443",
   "metadata": {},
   "outputs": [
    {
     "data": {
      "text/plain": [
       "PyObject <function create_data at 0x7f400431cd60>"
      ]
     },
     "execution_count": 2,
     "metadata": {},
     "output_type": "execute_result"
    }
   ],
   "source": [
    "using PyCall\n",
    "nnfs = pyimport(\"nnfs\")\n",
    "nnfs.init()\n",
    "nnfs_datasets = pyimport(\"nnfs.datasets\")\n",
    "spiral_data = nnfs_datasets.spiral_data"
   ]
  },
  {
   "cell_type": "code",
   "execution_count": 3,
   "id": "07ca4a90-a560-44f5-ae89-e985ea88a466",
   "metadata": {},
   "outputs": [
    {
     "data": {
      "text/plain": [
       "(Float32[0.0 0.0; 0.002995557 0.009646608; … ; -0.9793868 -0.14387996; -0.9427888 0.33339068], UInt8[0x00, 0x00, 0x00, 0x00, 0x00, 0x00, 0x00, 0x00, 0x00, 0x00  …  0x02, 0x02, 0x02, 0x02, 0x02, 0x02, 0x02, 0x02, 0x02, 0x02])"
      ]
     },
     "execution_count": 3,
     "metadata": {},
     "output_type": "execute_result"
    }
   ],
   "source": [
    "X, y = spiral_data(samples=100, classes=3)"
   ]
  },
  {
   "cell_type": "code",
   "execution_count": 4,
   "id": "69d55197-af00-4da2-81d8-45e6e1254171",
   "metadata": {},
   "outputs": [
    {
     "data": {
      "text/plain": [
       "Layer_Dense_forward (generic function with 1 method)"
      ]
     },
     "execution_count": 4,
     "metadata": {},
     "output_type": "execute_result"
    }
   ],
   "source": [
    "mutable struct Layer_Dense\n",
    "    weights::Matrix{Float64}\n",
    "    biases::Matrix{Float64}\n",
    "    function Layer_Dense(n_inputs::Int64, n_neurons::Int64)\n",
    "        new(0.01 * rand(Float64, (n_inputs, n_neurons)), zeros(Float64, 1, n_neurons))\n",
    "    end\n",
    "end\n",
    "\n",
    "function Layer_Dense_forward(layer_dense::Layer_Dense, inputs::Matrix{Float64})\n",
    "    return inputs * layer_dense.weights .+ layer_dense.biases\n",
    "end"
   ]
  },
  {
   "cell_type": "code",
   "execution_count": 5,
   "id": "315d7b73-1340-4b08-ab81-fccc0c49c5c5",
   "metadata": {},
   "outputs": [
    {
     "data": {
      "text/plain": [
       "Activation_Relu_forward (generic function with 1 method)"
      ]
     },
     "execution_count": 5,
     "metadata": {},
     "output_type": "execute_result"
    }
   ],
   "source": [
    "function Activation_Relu_forward(inputs::Matrix{Float64})\n",
    "    return max.(0, inputs)\n",
    "    #return maximum(inputs, dims=2)\n",
    "end"
   ]
  },
  {
   "cell_type": "code",
   "execution_count": 6,
   "id": "287745b5-e86f-40b7-bc09-f81ca2edacc0",
   "metadata": {},
   "outputs": [
    {
     "data": {
      "text/plain": [
       "Activation_Softmax_forward (generic function with 1 method)"
      ]
     },
     "execution_count": 6,
     "metadata": {},
     "output_type": "execute_result"
    }
   ],
   "source": [
    "function Activation_Softmax_forward(inputs::Matrix{Float64})\n",
    "    exp_values = exp.(inputs .- maximum(inputs, dims=2))\n",
    "    \n",
    "    return probabilities = exp_values ./ sum(exp_values, dims=2)\n",
    "end"
   ]
  },
  {
   "cell_type": "code",
   "execution_count": 7,
   "id": "782132a7-96bf-4216-a995-12c96ef06e8f",
   "metadata": {},
   "outputs": [
    {
     "data": {
      "text/plain": [
       "Layer_Dense([0.005042662787724856 0.009767829645028233 0.0009598204331107696; 5.803767891805256e-5 0.0098014090920686 0.002721472813733692], [0.0 0.0 0.0])"
      ]
     },
     "execution_count": 7,
     "metadata": {},
     "output_type": "execute_result"
    }
   ],
   "source": [
    "dense1 = Layer_Dense(2, 3)"
   ]
  },
  {
   "cell_type": "code",
   "execution_count": 8,
   "id": "4832a74c-e910-4f4d-aad8-e7ffa626b7b9",
   "metadata": {},
   "outputs": [
    {
     "data": {
      "text/plain": [
       "2×3 Matrix{Float64}:\n",
       " 0.00504266  0.00976783  0.00095982\n",
       " 5.80377e-5  0.00980141  0.00272147"
      ]
     },
     "execution_count": 8,
     "metadata": {},
     "output_type": "execute_result"
    }
   ],
   "source": [
    "dense1.weights"
   ]
  },
  {
   "cell_type": "code",
   "execution_count": 9,
   "id": "8c977a83-e7ac-4c98-833b-5c94fe213819",
   "metadata": {},
   "outputs": [
    {
     "data": {
      "text/plain": [
       "2×3 Matrix{Float64}:\n",
       " -0.0130653   0.0165813   -0.00118164\n",
       " -0.00680178  0.00666383  -0.0046072"
      ]
     },
     "execution_count": 9,
     "metadata": {},
     "output_type": "execute_result"
    }
   ],
   "source": [
    "dense1.weights = [-0.01306527  0.01658131 -0.00118164;\n",
    "       -0.00680178  0.00666383 -0.0046072 ]"
   ]
  },
  {
   "cell_type": "code",
   "execution_count": 10,
   "id": "46bce3f3-f14e-4029-b179-5813615b73f8",
   "metadata": {},
   "outputs": [
    {
     "data": {
      "text/plain": [
       "(1, 3)"
      ]
     },
     "execution_count": 10,
     "metadata": {},
     "output_type": "execute_result"
    }
   ],
   "source": [
    "size(dense1.biases)"
   ]
  },
  {
   "cell_type": "code",
   "execution_count": 11,
   "id": "064bc264-87a6-4708-997a-93b5424dd080",
   "metadata": {},
   "outputs": [
    {
     "data": {
      "text/plain": [
       "(2, 3)"
      ]
     },
     "execution_count": 11,
     "metadata": {},
     "output_type": "execute_result"
    }
   ],
   "source": [
    "size(dense1.weights)"
   ]
  },
  {
   "cell_type": "code",
   "execution_count": 12,
   "id": "af980bea-b520-4541-a77a-0d47d85331f7",
   "metadata": {},
   "outputs": [
    {
     "data": {
      "text/plain": [
       "Layer_Dense([0.0049141093314070605 0.00310230255316299 0.005892896170982419; 0.008610231929186295 0.008369904048990868 0.0014798297425384088; 0.0010280356720595086 0.003452320969329139 0.0005257563602351079], [0.0 0.0 0.0])"
      ]
     },
     "execution_count": 12,
     "metadata": {},
     "output_type": "execute_result"
    }
   ],
   "source": [
    "dense2 = Layer_Dense(3, 3)"
   ]
  },
  {
   "cell_type": "code",
   "execution_count": 13,
   "id": "466368ad-c7b3-4110-9cd2-cbd4a0c09134",
   "metadata": {},
   "outputs": [
    {
     "data": {
      "text/plain": [
       "3×3 Matrix{Float64}:\n",
       " -0.0133426   -0.0134672    0.00693773\n",
       " -0.00159573  -0.00133702   0.0107774\n",
       " -0.0112683   -0.00730678  -0.0038488"
      ]
     },
     "execution_count": 13,
     "metadata": {},
     "output_type": "execute_result"
    }
   ],
   "source": [
    "dense2.weights = [-0.01334258 -0.01346717  0.00693773;\n",
    "       -0.00159573 -0.00133702  0.01077744;\n",
    "       -0.01126826 -0.00730678 -0.0038488 ]"
   ]
  },
  {
   "cell_type": "code",
   "execution_count": 14,
   "id": "20d6170b-01c3-4239-836d-62e1b6d50637",
   "metadata": {},
   "outputs": [
    {
     "data": {
      "text/plain": [
       "300×3 Matrix{Float64}:\n",
       "  0.0           0.0           0.0\n",
       " -0.000104752   0.000113954  -4.79835e-5\n",
       " -0.000274148   0.000317292  -8.69218e-5\n",
       " -0.000421884   0.000526663  -5.59127e-5\n",
       " -0.000577077   0.000714014  -8.94304e-5\n",
       " -0.000354307   0.000350255  -0.000233635\n",
       " -0.00089267    0.00107679   -0.000194532\n",
       " -0.000933508   0.00107238   -0.000312274\n",
       " -0.00112438    0.00131128   -0.000336297\n",
       " -0.0013387     0.00162009   -0.000281018\n",
       " -0.0014878     0.00179484   -0.00032386\n",
       " -0.00120036    0.00158119    8.65948e-6\n",
       " -0.00156528    0.00199173   -0.000130997\n",
       "  ⋮                          \n",
       "  0.0129803    -0.0154693     0.00321064\n",
       "  0.0127419    -0.0158119     0.00188052\n",
       "  0.0111397    -0.0125693     0.00418793\n",
       "  0.0123971    -0.0143231     0.00398122\n",
       "  0.00645469   -0.00922423   -0.00151018\n",
       "  0.0121351    -0.0138639     0.00421446\n",
       "  0.0139591    -0.0169567     0.00280168\n",
       "  0.00985511   -0.0131001    -0.000311079\n",
       "  0.0132608    -0.0166402     0.00158308\n",
       "  0.010809     -0.0141844     3.14037e-5\n",
       "  0.0137746    -0.0171983     0.00182017\n",
       "  0.0100501    -0.013411     -0.000421961"
      ]
     },
     "execution_count": 14,
     "metadata": {},
     "output_type": "execute_result"
    }
   ],
   "source": [
    "dense1_output = Layer_Dense_forward(dense1, Float64.(X))"
   ]
  },
  {
   "cell_type": "code",
   "execution_count": 15,
   "id": "15786c1f-9bfe-450e-9611-f8e3aff8903d",
   "metadata": {},
   "outputs": [
    {
     "data": {
      "text/plain": [
       "300×3 Matrix{Float64}:\n",
       " 0.0         0.0          0.0\n",
       " 0.0         0.000113954  0.0\n",
       " 0.0         0.000317292  0.0\n",
       " 0.0         0.000526663  0.0\n",
       " 0.0         0.000714014  0.0\n",
       " 0.0         0.000350255  0.0\n",
       " 0.0         0.00107679   0.0\n",
       " 0.0         0.00107238   0.0\n",
       " 0.0         0.00131128   0.0\n",
       " 0.0         0.00162009   0.0\n",
       " 0.0         0.00179484   0.0\n",
       " 0.0         0.00158119   8.65948e-6\n",
       " 0.0         0.00199173   0.0\n",
       " ⋮                        \n",
       " 0.0129803   0.0          0.00321064\n",
       " 0.0127419   0.0          0.00188052\n",
       " 0.0111397   0.0          0.00418793\n",
       " 0.0123971   0.0          0.00398122\n",
       " 0.00645469  0.0          0.0\n",
       " 0.0121351   0.0          0.00421446\n",
       " 0.0139591   0.0          0.00280168\n",
       " 0.00985511  0.0          0.0\n",
       " 0.0132608   0.0          0.00158308\n",
       " 0.010809    0.0          3.14037e-5\n",
       " 0.0137746   0.0          0.00182017\n",
       " 0.0100501   0.0          0.0"
      ]
     },
     "execution_count": 15,
     "metadata": {},
     "output_type": "execute_result"
    }
   ],
   "source": [
    "activation1_output = Activation_Relu_forward(dense1_output)"
   ]
  },
  {
   "cell_type": "code",
   "execution_count": 16,
   "id": "3da130ac-7c74-491e-988d-764beff62b68",
   "metadata": {},
   "outputs": [
    {
     "data": {
      "text/plain": [
       "300×3 Matrix{Float64}:\n",
       "  0.0           0.0          0.0\n",
       " -1.81839e-7   -1.52358e-7   1.22813e-6\n",
       " -5.06312e-7   -4.24225e-7   3.41959e-6\n",
       " -8.40411e-7   -7.04158e-7   5.67608e-6\n",
       " -1.13937e-6   -9.54651e-7   7.69524e-6\n",
       " -5.58912e-7   -4.68298e-7   3.77485e-6\n",
       " -1.71826e-6   -1.43969e-6   1.1605e-5\n",
       " -1.71123e-6   -1.43379e-6   1.15575e-5\n",
       " -2.09245e-6   -1.75321e-6   1.41322e-5\n",
       " -2.58523e-6   -2.16609e-6   1.74604e-5\n",
       " -2.86408e-6   -2.39974e-6   1.93438e-5\n",
       " -2.62073e-6   -2.17736e-6   1.70079e-5\n",
       " -3.17827e-6   -2.66299e-6   2.14658e-5\n",
       "  ⋮                          \n",
       " -0.00020937   -0.000198268  7.7697e-5\n",
       " -0.0001912    -0.000185338  8.11619e-5\n",
       " -0.000195823  -0.000180621  6.11658e-5\n",
       " -0.000210271  -0.000196044  7.06848e-5\n",
       " -8.61222e-5   -8.69264e-5   4.47809e-5\n",
       " -0.000209404  -0.00019422   6.79696e-5\n",
       " -0.00021782   -0.000208461  8.60613e-5\n",
       " -0.000131493  -0.00013272   6.83721e-5\n",
       " -0.000194772  -0.000190153  8.59069e-5\n",
       " -0.000144574  -0.000145796  7.48691e-5\n",
       " -0.000204299  -0.000198804  8.8559e-5\n",
       " -0.000134095  -0.000135347  6.97252e-5"
      ]
     },
     "execution_count": 16,
     "metadata": {},
     "output_type": "execute_result"
    }
   ],
   "source": [
    "dense2_output = Layer_Dense_forward(dense2, activation1_output)"
   ]
  },
  {
   "cell_type": "code",
   "execution_count": 17,
   "id": "d2649adf-8873-4442-ac8e-a90c9f3d19a4",
   "metadata": {},
   "outputs": [
    {
     "data": {
      "text/plain": [
       "300×3 Matrix{Float64}:\n",
       " 0.333333  0.333333  0.333333\n",
       " 0.333333  0.333333  0.333334\n",
       " 0.333333  0.333333  0.333334\n",
       " 0.333333  0.333333  0.333335\n",
       " 0.333332  0.333332  0.333335\n",
       " 0.333333  0.333333  0.333334\n",
       " 0.333332  0.333332  0.333336\n",
       " 0.333332  0.333332  0.333336\n",
       " 0.333331  0.333332  0.333337\n",
       " 0.333331  0.333331  0.333338\n",
       " 0.333331  0.333331  0.333338\n",
       " 0.333331  0.333331  0.333338\n",
       " 0.333331  0.333331  0.333339\n",
       " ⋮                   \n",
       " 0.3333    0.333304  0.333396\n",
       " 0.333302  0.333304  0.333393\n",
       " 0.333303  0.333308  0.333389\n",
       " 0.333301  0.333305  0.333394\n",
       " 0.333319  0.333319  0.333363\n",
       " 0.333301  0.333306  0.333393\n",
       " 0.333299  0.333302  0.3334\n",
       " 0.333311  0.333311  0.333378\n",
       " 0.333302  0.333303  0.333395\n",
       " 0.333309  0.333309  0.333382\n",
       " 0.3333    0.333302  0.333398\n",
       " 0.333311  0.33331   0.333379"
      ]
     },
     "execution_count": 17,
     "metadata": {},
     "output_type": "execute_result"
    }
   ],
   "source": [
    "activation2_output = Activation_Softmax_forward(dense2_output)"
   ]
  },
  {
   "cell_type": "code",
   "execution_count": 18,
   "id": "91b5ce69-3788-42a8-8a88-f6ecfeb152d3",
   "metadata": {},
   "outputs": [
    {
     "data": {
      "text/plain": [
       "forward (generic function with 1 method)"
      ]
     },
     "execution_count": 18,
     "metadata": {},
     "output_type": "execute_result"
    }
   ],
   "source": [
    "function forward(y_pred::Matrix{Float64}, y_true::Matrix{UInt8})\n",
    "    samples = size(y_pred)[0]\n",
    "    y_pred_clipped = clamp.(y_pred, 1e-7 , 1 - 1e-7 )\n",
    "    if ndims(y_true) == 1\n",
    "      correct_confidences = y_pred_clipped[CartesianIndex.(collect(1:samples),y_true)]\n",
    "    elseif ndims(y_true) == 2\n",
    "      correct_confidences = sum(y_pred_clipped .* y_true,dims=2)\n",
    "    end\n",
    "    negative_log_likelihoods = -log.(correct_confidences)\n",
    "    return negative_log_likelihoods\n",
    "end"
   ]
  },
  {
   "cell_type": "code",
   "execution_count": 19,
   "id": "48f91353-1370-460b-b9fd-c999a9fca618",
   "metadata": {},
   "outputs": [
    {
     "data": {
      "text/plain": [
       "calculate (generic function with 1 method)"
      ]
     },
     "execution_count": 19,
     "metadata": {},
     "output_type": "execute_result"
    }
   ],
   "source": [
    "function calculate(output::Matrix{Float64}, y::Matrix{UInt8})\n",
    "    sample_losses = forward(output, y)\n",
    "    data_loss = mean(sample_losses)\n",
    "    return data_loss\n",
    "end"
   ]
  },
  {
   "cell_type": "code",
   "execution_count": 20,
   "id": "54a2807f-a080-4517-b2f8-fb62606d0a61",
   "metadata": {},
   "outputs": [
    {
     "data": {
      "text/plain": [
       "300×1 Matrix{UInt8}:\n",
       " 0x00\n",
       " 0x00\n",
       " 0x00\n",
       " 0x00\n",
       " 0x00\n",
       " 0x00\n",
       " 0x00\n",
       " 0x00\n",
       " 0x00\n",
       " 0x00\n",
       " 0x00\n",
       " 0x00\n",
       " 0x00\n",
       "    ⋮\n",
       " 0x02\n",
       " 0x02\n",
       " 0x02\n",
       " 0x02\n",
       " 0x02\n",
       " 0x02\n",
       " 0x02\n",
       " 0x02\n",
       " 0x02\n",
       " 0x02\n",
       " 0x02\n",
       " 0x02"
      ]
     },
     "execution_count": 20,
     "metadata": {},
     "output_type": "execute_result"
    }
   ],
   "source": [
    "y = reshape(y, 300, 1)"
   ]
  },
  {
   "cell_type": "code",
   "execution_count": 23,
   "id": "b8656f0e-40fd-482f-95f8-5ee6e055195c",
   "metadata": {},
   "outputs": [
    {
     "data": {
      "text/plain": [
       "Inf"
      ]
     },
     "execution_count": 23,
     "metadata": {},
     "output_type": "execute_result"
    }
   ],
   "source": [
    "loss = calculate(activation2_output, y)"
   ]
  },
  {
   "cell_type": "code",
   "execution_count": 25,
   "id": "ba618742-d782-4eda-b059-d2ac63aa1aec",
   "metadata": {},
   "outputs": [
    {
     "data": {
      "text/plain": [
       "(300, 3)"
      ]
     },
     "execution_count": 25,
     "metadata": {},
     "output_type": "execute_result"
    }
   ],
   "source": [
    "size(activation2_output)"
   ]
  },
  {
   "cell_type": "code",
   "execution_count": 29,
   "id": "3b915f86-78a2-43f3-bcff-f094d1b53dbc",
   "metadata": {},
   "outputs": [
    {
     "data": {
      "text/plain": [
       "(300,)"
      ]
     },
     "execution_count": 29,
     "metadata": {},
     "output_type": "execute_result"
    }
   ],
   "source": [
    "size(y)"
   ]
  },
  {
   "cell_type": "code",
   "execution_count": 42,
   "id": "145e256a-550d-40a4-9473-c8d53284e700",
   "metadata": {},
   "outputs": [
    {
     "data": {
      "text/plain": [
       "Matrix{UInt8}\u001b[90m (alias for \u001b[39m\u001b[90mArray{UInt8, 2}\u001b[39m\u001b[90m)\u001b[39m"
      ]
     },
     "execution_count": 42,
     "metadata": {},
     "output_type": "execute_result"
    }
   ],
   "source": [
    "typeof(y)"
   ]
  },
  {
   "cell_type": "code",
   "execution_count": 25,
   "id": "5461f3dc-3199-4c52-ac17-9459cba8900b",
   "metadata": {},
   "outputs": [
    {
     "data": {
      "text/plain": [
       "300"
      ]
     },
     "execution_count": 25,
     "metadata": {},
     "output_type": "execute_result"
    }
   ],
   "source": [
    "length(y)"
   ]
  },
  {
   "cell_type": "code",
   "execution_count": 44,
   "id": "c1953dcd-3456-4769-bfcd-d13e3e9dc318",
   "metadata": {
    "tags": []
   },
   "outputs": [
    {
     "data": {
      "text/plain": [
       "300×1 Matrix{Float64}:\n",
       " 0.0\n",
       " 0.0\n",
       " 0.0\n",
       " 0.0\n",
       " 0.0\n",
       " 0.0\n",
       " 0.0\n",
       " 0.0\n",
       " 0.0\n",
       " 0.0\n",
       " 0.0\n",
       " 0.0\n",
       " 0.0\n",
       " ⋮\n",
       " 2.0\n",
       " 2.0\n",
       " 2.0\n",
       " 2.0\n",
       " 2.0\n",
       " 2.0\n",
       " 2.0\n",
       " 2.0\n",
       " 2.0\n",
       " 2.0\n",
       " 2.0\n",
       " 2.0"
      ]
     },
     "execution_count": 44,
     "metadata": {},
     "output_type": "execute_result"
    }
   ],
   "source": [
    "y_f = convert(Matrix{Float64}, y)"
   ]
  },
  {
   "cell_type": "code",
   "execution_count": 21,
   "id": "da2eb85e-36af-4008-bdd8-c3c85b21a4b6",
   "metadata": {},
   "outputs": [
    {
     "data": {
      "text/plain": [
       "300×3 Matrix{Float64}:\n",
       " 0.333333  0.333333  0.333333\n",
       " 0.333333  0.333333  0.333334\n",
       " 0.333333  0.333333  0.333334\n",
       " 0.333333  0.333333  0.333335\n",
       " 0.333332  0.333332  0.333335\n",
       " 0.333333  0.333333  0.333334\n",
       " 0.333332  0.333332  0.333336\n",
       " 0.333332  0.333332  0.333336\n",
       " 0.333331  0.333332  0.333337\n",
       " 0.333331  0.333331  0.333338\n",
       " 0.333331  0.333331  0.333338\n",
       " 0.333331  0.333331  0.333338\n",
       " 0.333331  0.333331  0.333339\n",
       " ⋮                   \n",
       " 0.3333    0.333304  0.333396\n",
       " 0.333302  0.333304  0.333393\n",
       " 0.333303  0.333308  0.333389\n",
       " 0.333301  0.333305  0.333394\n",
       " 0.333319  0.333319  0.333363\n",
       " 0.333301  0.333306  0.333393\n",
       " 0.333299  0.333302  0.3334\n",
       " 0.333311  0.333311  0.333378\n",
       " 0.333302  0.333303  0.333395\n",
       " 0.333309  0.333309  0.333382\n",
       " 0.3333    0.333302  0.333398\n",
       " 0.333311  0.33331   0.333379"
      ]
     },
     "execution_count": 21,
     "metadata": {},
     "output_type": "execute_result"
    }
   ],
   "source": [
    "activation2_output"
   ]
  },
  {
   "cell_type": "code",
   "execution_count": 34,
   "id": "f9499fbf-082e-4faf-b9f3-32982b70d15a",
   "metadata": {},
   "outputs": [
    {
     "data": {
      "text/plain": [
       "300×3 Matrix{Float64}:\n",
       " 0.333333  0.333333  0.333333\n",
       " 0.333333  0.333333  0.333334\n",
       " 0.333333  0.333333  0.333334\n",
       " 0.333333  0.333333  0.333334\n",
       " 0.333332  0.333332  0.333335\n",
       " 0.333333  0.333333  0.333335\n",
       " 0.333333  0.333333  0.333334\n",
       " 0.333333  0.333333  0.333335\n",
       " 0.333331  0.333331  0.333337\n",
       " 0.333331  0.333331  0.333337\n",
       " 0.333331  0.333331  0.333338\n",
       " 0.333331  0.333331  0.333338\n",
       " 0.333331  0.333331  0.333338\n",
       " ⋮                   \n",
       " 0.333305  0.33331   0.333385\n",
       " 0.333321  0.333325  0.333354\n",
       " 0.3333    0.333303  0.333397\n",
       " 0.3333    0.333303  0.333398\n",
       " 0.333299  0.333303  0.333398\n",
       " 0.333301  0.333306  0.333393\n",
       " 0.333301  0.333303  0.333396\n",
       " 0.333303  0.333304  0.333393\n",
       " 0.333298  0.333301  0.333401\n",
       " 0.3333    0.333302  0.333397\n",
       " 0.333297  0.3333    0.333403\n",
       " 0.333304  0.333305  0.333391"
      ]
     },
     "execution_count": 34,
     "metadata": {},
     "output_type": "execute_result"
    }
   ],
   "source": [
    "clamp.(activation2_output, 1e-7 , 1 - 1e-7 )"
   ]
  },
  {
   "cell_type": "code",
   "execution_count": 28,
   "id": "081c6225-a16f-4d43-8d4e-c1edb8b84554",
   "metadata": {},
   "outputs": [
    {
     "data": {
      "text/plain": [
       "2"
      ]
     },
     "execution_count": 28,
     "metadata": {},
     "output_type": "execute_result"
    }
   ],
   "source": [
    "ndims(activation2_output)"
   ]
  },
  {
   "cell_type": "code",
   "execution_count": 37,
   "id": "5aa85eda-4479-4c96-b669-01570b385c2a",
   "metadata": {},
   "outputs": [
    {
     "data": {
      "text/plain": [
       "300"
      ]
     },
     "execution_count": 37,
     "metadata": {},
     "output_type": "execute_result"
    }
   ],
   "source": [
    "samples = size(activation2_output)[1]"
   ]
  },
  {
   "cell_type": "code",
   "execution_count": 45,
   "id": "3fadc9ae-8566-49d8-b29f-830a80f6de77",
   "metadata": {},
   "outputs": [
    {
     "data": {
      "text/plain": [
       "0:300"
      ]
     },
     "execution_count": 45,
     "metadata": {},
     "output_type": "execute_result"
    }
   ],
   "source": [
    "range(0; stop=samples)"
   ]
  },
  {
   "cell_type": "code",
   "execution_count": 51,
   "id": "b02faefc-ddc3-4dc5-b811-6a47dd74e296",
   "metadata": {},
   "outputs": [
    {
     "data": {
      "text/plain": [
       "300-element Vector{Float64}:\n",
       " 0.3333333333333333\n",
       " 0.3333330884063723\n",
       " 0.33333307933717843\n",
       " 0.3333330762336043\n",
       " 0.33333242145014297\n",
       " 0.3333325598486623\n",
       " 0.33333285362445986\n",
       " 0.33333261692382027\n",
       " 0.33333130767637287\n",
       " 0.3333311988257687\n",
       " 0.3333308757340194\n",
       " 0.333330837793462\n",
       " 0.3333307256455454\n",
       " ⋮\n",
       " 0.33330512196775286\n",
       " 0.3333213783791482\n",
       " 0.33329968221042666\n",
       " 0.3332995457311547\n",
       " 0.33329875978451723\n",
       " 0.333300984560092\n",
       " 0.33330110600783264\n",
       " 0.33330266999195446\n",
       " 0.33329803751365095\n",
       " 0.33330036670189694\n",
       " 0.3332970933389809\n",
       " 0.33330402391227265"
      ]
     },
     "execution_count": 51,
     "metadata": {},
     "output_type": "execute_result"
    }
   ],
   "source": [
    "y_pred_clipped = clamp.(activation2_output, 1e-7 , 1 - 1e-7 )\n",
    "y_pred_clipped[1:samples]"
   ]
  },
  {
   "cell_type": "code",
   "execution_count": 49,
   "id": "64cb96a7-c9c0-4f03-bccc-9a15f26672aa",
   "metadata": {},
   "outputs": [
    {
     "data": {
      "text/plain": [
       "1:300"
      ]
     },
     "execution_count": 49,
     "metadata": {},
     "output_type": "execute_result"
    }
   ],
   "source": [
    "1:samples"
   ]
  },
  {
   "cell_type": "code",
   "execution_count": 46,
   "id": "52077016-db53-41fc-9c3f-0a604a8f7cad",
   "metadata": {},
   "outputs": [
    {
     "data": {
      "text/plain": [
       "300×3 Matrix{Float64}:\n",
       " 0.333333  0.333333  0.333333\n",
       " 0.333333  0.333333  0.333334\n",
       " 0.333333  0.333333  0.333334\n",
       " 0.333333  0.333333  0.333335\n",
       " 0.333332  0.333332  0.333335\n",
       " 0.333333  0.333333  0.333334\n",
       " 0.333332  0.333332  0.333336\n",
       " 0.333332  0.333332  0.333336\n",
       " 0.333331  0.333332  0.333337\n",
       " 0.333331  0.333331  0.333338\n",
       " 0.333331  0.333331  0.333338\n",
       " 0.333331  0.333331  0.333338\n",
       " 0.333331  0.333331  0.333339\n",
       " ⋮                   \n",
       " 0.3333    0.333304  0.333396\n",
       " 0.333302  0.333304  0.333393\n",
       " 0.333303  0.333308  0.333389\n",
       " 0.333301  0.333305  0.333394\n",
       " 0.333319  0.333319  0.333363\n",
       " 0.333301  0.333306  0.333393\n",
       " 0.333299  0.333302  0.3334\n",
       " 0.333311  0.333311  0.333378\n",
       " 0.333302  0.333303  0.333395\n",
       " 0.333309  0.333309  0.333382\n",
       " 0.3333    0.333302  0.333398\n",
       " 0.333311  0.33331   0.333379"
      ]
     },
     "execution_count": 46,
     "metadata": {},
     "output_type": "execute_result"
    }
   ],
   "source": [
    "y_pred_clipped"
   ]
  },
  {
   "cell_type": "code",
   "execution_count": null,
   "id": "b07273c6-c092-4c82-9ee1-75b2bb4d4b48",
   "metadata": {},
   "outputs": [],
   "source": []
  }
 ],
 "metadata": {
  "kernelspec": {
   "display_name": "Julia 1.8.5",
   "language": "julia",
   "name": "julia-1.8"
  },
  "language_info": {
   "file_extension": ".jl",
   "mimetype": "application/julia",
   "name": "julia",
   "version": "1.8.5"
  }
 },
 "nbformat": 4,
 "nbformat_minor": 5
}
