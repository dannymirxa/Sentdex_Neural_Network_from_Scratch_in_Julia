{
 "cells": [
  {
   "cell_type": "markdown",
   "id": "02c639a8-0898-4503-8eb7-c011406b6be8",
   "metadata": {},
   "source": [
    "# Coding Our First Neurons"
   ]
  },
  {
   "cell_type": "markdown",
   "id": "5e587429-1205-4ae3-afd6-b5c61f903301",
   "metadata": {},
   "source": [
    "## Single Neurons"
   ]
  },
  {
   "cell_type": "code",
   "execution_count": 1,
   "id": "b5cc1725-2d2c-457d-808d-a379f72ef25d",
   "metadata": {},
   "outputs": [
    {
     "data": {
      "text/plain": [
       "2"
      ]
     },
     "execution_count": 1,
     "metadata": {},
     "output_type": "execute_result"
    }
   ],
   "source": [
    "inputs = [1, 2, 3]\n",
    "weights = [0.2, 0.8, -0.5]\n",
    "bias = 2"
   ]
  },
  {
   "cell_type": "code",
   "execution_count": 2,
   "id": "f2208b5d-3aba-41f4-a0dc-486d9da534fe",
   "metadata": {},
   "outputs": [
    {
     "data": {
      "text/plain": [
       "2.3"
      ]
     },
     "execution_count": 2,
     "metadata": {},
     "output_type": "execute_result"
    }
   ],
   "source": [
    "output = (inputs[1]*weights[1] +\n",
    "        inputs[2]*weights[2] +\n",
    "        inputs[3]*weights[3] + bias\n",
    ")"
   ]
  },
  {
   "cell_type": "code",
   "execution_count": 3,
   "id": "814b4da1-31c4-441e-a27d-af4eeb87b9f5",
   "metadata": {},
   "outputs": [
    {
     "data": {
      "text/plain": [
       "2.0"
      ]
     },
     "execution_count": 3,
     "metadata": {},
     "output_type": "execute_result"
    }
   ],
   "source": [
    "inputs = [1.0, 2.0, 3.0, 2.5]\n",
    "weights = [0.2, 0.8, -0.5, 1.0]\n",
    "bias = 2.0"
   ]
  },
  {
   "cell_type": "code",
   "execution_count": 4,
   "id": "4ffbd707-5a0e-45df-bd1e-585efdda1ec0",
   "metadata": {},
   "outputs": [
    {
     "data": {
      "text/plain": [
       "4.8"
      ]
     },
     "execution_count": 4,
     "metadata": {},
     "output_type": "execute_result"
    }
   ],
   "source": [
    "output = (inputs[1]*weights[1] +\n",
    "        inputs[2]*weights[2] +\n",
    "        inputs[3]*weights[3] +\n",
    "        inputs[4]*weights[4] + bias)"
   ]
  },
  {
   "cell_type": "markdown",
   "id": "fc3d0b09-f62e-453c-ab64-7ea54fe0b8e0",
   "metadata": {},
   "source": [
    "## A Layer of Neurons"
   ]
  },
  {
   "cell_type": "code",
   "execution_count": 5,
   "id": "42e362f4-a626-464f-9669-fe55619c2a03",
   "metadata": {},
   "outputs": [
    {
     "data": {
      "text/plain": [
       "0.5"
      ]
     },
     "execution_count": 5,
     "metadata": {},
     "output_type": "execute_result"
    }
   ],
   "source": [
    "inputs = [1, 2, 3, 2.5]\n",
    "weights1 = [0.2, 0.8, -0.5, 1]\n",
    "weights2 = [0.5, -0.91, 0.26, -0.5]\n",
    "weights3 =[-0.26, -0.27, 0.17, 0.87]\n",
    "bias1 = 2\n",
    "bias2 = 3\n",
    "bias3 = 0.5"
   ]
  },
  {
   "cell_type": "code",
   "execution_count": 6,
   "id": "7c404bd5-ee34-4d75-ad0a-c14362266fdb",
   "metadata": {},
   "outputs": [
    {
     "data": {
      "text/plain": [
       "3-element Vector{Float64}:\n",
       " 4.8\n",
       " 1.21\n",
       " 2.385"
      ]
     },
     "execution_count": 6,
     "metadata": {},
     "output_type": "execute_result"
    }
   ],
   "source": [
    "outputs = [\n",
    "            #Neuron 1\n",
    "            inputs[1]*weights1[1] +\n",
    "            inputs[2]*weights1[2] +\n",
    "            inputs[3]*weights1[3] +\n",
    "            inputs[4]*weights1[4] + bias1 ,\n",
    "            #Neuron 2\n",
    "            inputs[1]*weights2[1] +\n",
    "            inputs[2]*weights2[2] +\n",
    "            inputs[3]*weights2[3] +\n",
    "            inputs[4]*weights2[4] + bias2 , \n",
    "            #Neuron 3\n",
    "            inputs[1]*weights3[1] +\n",
    "            inputs[2]*weights3[2] +\n",
    "            inputs[3]*weights3[3] +\n",
    "            inputs[4]*weights3[4] + bias3]"
   ]
  },
  {
   "cell_type": "code",
   "execution_count": 1,
   "id": "bb892a6e-631d-4a58-af63-fddccbf03e7a",
   "metadata": {},
   "outputs": [
    {
     "data": {
      "text/plain": [
       "3-element Vector{Float64}:\n",
       " 2.0\n",
       " 3.0\n",
       " 0.5"
      ]
     },
     "execution_count": 1,
     "metadata": {},
     "output_type": "execute_result"
    }
   ],
   "source": [
    "inputs = [1, 2, 3, 2.5]\n",
    "#weights = [0.2 0.8 -0.5 1;\n",
    "#            0.5 -0.91 0.26 -0.5;\n",
    "#            -0.26 -0.27 0.17 0.87]\n",
    "weights = [[0.2, 0.8, -0.5, 1],\n",
    "            [0.5, -0.91, 0.26, -0.5],\n",
    "            [-0.26, -0.27, 0.17, 0.87]]\n",
    "biases = [2, 3, 0.5]"
   ]
  },
  {
   "cell_type": "code",
   "execution_count": 2,
   "id": "974542ac-f30e-4893-a995-777b731729d1",
   "metadata": {},
   "outputs": [
    {
     "data": {
      "text/plain": [
       "Float64[]"
      ]
     },
     "execution_count": 2,
     "metadata": {},
     "output_type": "execute_result"
    }
   ],
   "source": [
    "# Output of current layer\n",
    "layer_outputs = Vector{Float64}()"
   ]
  },
  {
   "cell_type": "code",
   "execution_count": 3,
   "id": "08176368-7c9b-44c3-9504-44da07c3ce23",
   "metadata": {},
   "outputs": [],
   "source": [
    "for (neuron_weights, neuron_bias) in zip(weights, biases)\n",
    "    # Zeroed output of given neuron\n",
    "    neuron_output = 0\n",
    "    # For each input and weight to the neuron\n",
    "    for (n_input, weight) in zip(inputs, neuron_weights)\n",
    "    # Multiply this input by associated weight\n",
    "    # and add to the neuron’s output variable\n",
    "        neuron_output = neuron_output .+ n_input*weight\n",
    "    end\n",
    "    # Add bias\n",
    "    neuron_output = neuron_output .+ neuron_bias\n",
    "    # Put neuron’s result to the layer’s output\n",
    "    append!(layer_outputs, neuron_output)\n",
    "end"
   ]
  },
  {
   "cell_type": "code",
   "execution_count": 4,
   "id": "69ebf13e-b6aa-4272-930a-fd679dc28f93",
   "metadata": {},
   "outputs": [
    {
     "data": {
      "text/plain": [
       "3-element Vector{Float64}:\n",
       " 4.8\n",
       " 1.21\n",
       " 2.385"
      ]
     },
     "execution_count": 4,
     "metadata": {},
     "output_type": "execute_result"
    }
   ],
   "source": [
    "layer_outputs"
   ]
  },
  {
   "cell_type": "code",
   "execution_count": 6,
   "id": "2e9cc76f-dd24-4588-8de1-9100d5818c8e",
   "metadata": {},
   "outputs": [
    {
     "data": {
      "text/plain": [
       "3-element Vector{Float64}:\n",
       " 2.0\n",
       " 3.0\n",
       " 0.5"
      ]
     },
     "execution_count": 6,
     "metadata": {},
     "output_type": "execute_result"
    }
   ],
   "source": [
    "inputs = [1, 2, 3, 2.5]\n",
    "weights = [0.2 0.8 -0.5 1;\n",
    "            0.5 -0.91 0.26 -0.5;\n",
    "            -0.26 -0.27 0.17 0.87]\n",
    "#weights = [[0.2, 0.8, -0.5, 1],\n",
    "#[0.5, -0.91, 0.26, -0.5],\n",
    "#[-0.26, -0.27, 0.17, 0.87]]\n",
    "biases = [2, 3, 0.5]"
   ]
  },
  {
   "cell_type": "code",
   "execution_count": 7,
   "id": "4d9583d4-6acf-479f-b799-7dc9fce55c73",
   "metadata": {},
   "outputs": [
    {
     "data": {
      "text/plain": [
       "3-element Vector{Float64}:\n",
       " 4.8\n",
       " 1.21\n",
       " 2.385"
      ]
     },
     "execution_count": 7,
     "metadata": {},
     "output_type": "execute_result"
    }
   ],
   "source": [
    "weights * inputs  + biases"
   ]
  },
  {
   "cell_type": "code",
   "execution_count": 8,
   "id": "40690a53-4cb4-4d50-8350-bdd97b33f096",
   "metadata": {},
   "outputs": [
    {
     "data": {
      "text/plain": [
       "3-element Vector{Int64}:\n",
       " 2\n",
       " 3\n",
       " 4"
      ]
     },
     "execution_count": 8,
     "metadata": {},
     "output_type": "execute_result"
    }
   ],
   "source": [
    "a = [1, 2, 3]\n",
    "b = [2, 3, 4]"
   ]
  },
  {
   "cell_type": "code",
   "execution_count": 9,
   "id": "a0b000e4-187e-4fc2-9aa8-791ad4b4060d",
   "metadata": {},
   "outputs": [
    {
     "data": {
      "text/plain": [
       "20"
      ]
     },
     "execution_count": 9,
     "metadata": {},
     "output_type": "execute_result"
    }
   ],
   "source": [
    "a' * b "
   ]
  },
  {
   "cell_type": "code",
   "execution_count": 13,
   "id": "fe0f1972-94e2-4956-9cf4-8a9091cb6de9",
   "metadata": {},
   "outputs": [
    {
     "data": {
      "text/plain": [
       "3-element Vector{Float64}:\n",
       " 2.0\n",
       " 3.0\n",
       " 0.5"
      ]
     },
     "execution_count": 13,
     "metadata": {},
     "output_type": "execute_result"
    }
   ],
   "source": [
    "inputs = [1.0 2.0 3.0 2.5;\n",
    "            2.0 5.0 -1.0 2.0;\n",
    "            -1.5 2.7 3.3 -0.8]\n",
    "weights = [0.2 0.8 -0.5 1.0;\n",
    "            0.5 -0.91 0.26 -0.5;\n",
    "            -0.26 -0.27 0.17 0.87]\n",
    "biases = [2.0, 3.0, 0.5]"
   ]
  },
  {
   "cell_type": "code",
   "execution_count": 29,
   "id": "66628265-dcee-4983-866e-186c41142673",
   "metadata": {},
   "outputs": [
    {
     "data": {
      "text/plain": [
       "3×3 Matrix{Float64}:\n",
       " 4.8    1.21   2.385\n",
       " 8.9   -1.81   0.2\n",
       " 1.41   1.051  0.026"
      ]
     },
     "execution_count": 29,
     "metadata": {},
     "output_type": "execute_result"
    }
   ],
   "source": [
    "inputs * weights' .+ biases'"
   ]
  },
  {
   "cell_type": "code",
   "execution_count": null,
   "id": "88f4cbc8-c540-4c79-9207-824ae0264bcf",
   "metadata": {},
   "outputs": [],
   "source": []
  }
 ],
 "metadata": {
  "kernelspec": {
   "display_name": "Julia 1.8.5",
   "language": "julia",
   "name": "julia-1.8"
  },
  "language_info": {
   "file_extension": ".jl",
   "mimetype": "application/julia",
   "name": "julia",
   "version": "1.8.5"
  }
 },
 "nbformat": 4,
 "nbformat_minor": 5
}
