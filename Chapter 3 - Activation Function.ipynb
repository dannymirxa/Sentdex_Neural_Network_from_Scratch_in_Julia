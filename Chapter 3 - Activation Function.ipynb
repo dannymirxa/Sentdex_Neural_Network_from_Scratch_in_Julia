{
 "cells": [
  {
   "cell_type": "code",
   "execution_count": 1,
   "id": "ced7e7ef-00bd-446f-b27e-affcec86083f",
   "metadata": {},
   "outputs": [
    {
     "data": {
      "text/plain": [
       "3-element Vector{Float64}:\n",
       " 4.8\n",
       " 1.21\n",
       " 2.385"
      ]
     },
     "execution_count": 1,
     "metadata": {},
     "output_type": "execute_result"
    }
   ],
   "source": [
    "layer_outputs = [4.8, 1.21, 2.385]"
   ]
  },
  {
   "cell_type": "code",
   "execution_count": 2,
   "id": "ce31d941-ca1a-414f-ac57-7b2c70d70882",
   "metadata": {},
   "outputs": [
    {
     "data": {
      "text/plain": [
       "Float64[]"
      ]
     },
     "execution_count": 2,
     "metadata": {},
     "output_type": "execute_result"
    }
   ],
   "source": [
    "exp_values = Vector{Float64}()"
   ]
  },
  {
   "cell_type": "code",
   "execution_count": 3,
   "id": "226b1922-02d4-4e4d-bfd5-3c5fe2df148b",
   "metadata": {},
   "outputs": [
    {
     "data": {
      "text/plain": [
       "2.718281828459045"
      ]
     },
     "execution_count": 3,
     "metadata": {},
     "output_type": "execute_result"
    }
   ],
   "source": [
    "E = exp(1.0)"
   ]
  },
  {
   "cell_type": "code",
   "execution_count": 4,
   "id": "f047f2da-4909-484d-89e2-c5e21bdb3963",
   "metadata": {},
   "outputs": [],
   "source": [
    "for output in layer_outputs\n",
    "    push!(exp_values, E ^ output)\n",
    "end"
   ]
  },
  {
   "cell_type": "code",
   "execution_count": 5,
   "id": "4205fdfd-f04d-4b0e-b756-8427a1636c2b",
   "metadata": {},
   "outputs": [
    {
     "data": {
      "text/plain": [
       "3-element Vector{Float64}:\n",
       " 121.51041751873483\n",
       "   3.353484652549023\n",
       "  10.859062664920513"
      ]
     },
     "execution_count": 5,
     "metadata": {},
     "output_type": "execute_result"
    }
   ],
   "source": [
    "exp_values"
   ]
  },
  {
   "cell_type": "code",
   "execution_count": 6,
   "id": "257c073a-9d55-4172-bbe5-9445bb9e3386",
   "metadata": {},
   "outputs": [],
   "source": [
    "norm_base = sum(exp_values) # We sum all values\n",
    "norm_values = []\n",
    "for value in exp_values\n",
    "    push!(norm_values, value / norm_base)\n",
    "end"
   ]
  },
  {
   "cell_type": "code",
   "execution_count": 7,
   "id": "ac9a9d56-27de-4c6c-94c6-dcca71e1d6e4",
   "metadata": {},
   "outputs": [
    {
     "data": {
      "text/plain": [
       "3-element Vector{Any}:\n",
       " 0.8952826639572619\n",
       " 0.024708306782099374\n",
       " 0.0800090292606387"
      ]
     },
     "execution_count": 7,
     "metadata": {},
     "output_type": "execute_result"
    }
   ],
   "source": [
    "norm_values"
   ]
  },
  {
   "cell_type": "code",
   "execution_count": 8,
   "id": "15b3baac-d846-4ad1-a424-5b15787e5c09",
   "metadata": {},
   "outputs": [
    {
     "data": {
      "text/plain": [
       "0.9999999999999999"
      ]
     },
     "execution_count": 8,
     "metadata": {},
     "output_type": "execute_result"
    }
   ],
   "source": [
    "sum(norm_values)"
   ]
  },
  {
   "cell_type": "code",
   "execution_count": 9,
   "id": "79d2447e-8616-42c8-8794-112d0c30649e",
   "metadata": {},
   "outputs": [
    {
     "data": {
      "text/plain": [
       "3-element Vector{Float64}:\n",
       " 121.51041751873485\n",
       "   3.3534846525490236\n",
       "  10.859062664920515"
      ]
     },
     "execution_count": 9,
     "metadata": {},
     "output_type": "execute_result"
    }
   ],
   "source": [
    "exp_values = exp.(layer_outputs)"
   ]
  },
  {
   "cell_type": "code",
   "execution_count": 10,
   "id": "f58ba049-291a-4b71-9fe4-d787711a9602",
   "metadata": {},
   "outputs": [
    {
     "data": {
      "text/plain": [
       "3-element Vector{Float64}:\n",
       " 0.8952826639572619\n",
       " 0.02470830678209937\n",
       " 0.0800090292606387"
      ]
     },
     "execution_count": 10,
     "metadata": {},
     "output_type": "execute_result"
    }
   ],
   "source": [
    "norm_values = exp_values/ sum(exp_values)"
   ]
  },
  {
   "cell_type": "code",
   "execution_count": 1,
   "id": "ed49ff51-e02b-4468-895a-4c3fc3fac423",
   "metadata": {},
   "outputs": [
    {
     "data": {
      "text/plain": [
       "PyObject <function create_data at 0x7ffb31f89240>"
      ]
     },
     "execution_count": 1,
     "metadata": {},
     "output_type": "execute_result"
    }
   ],
   "source": [
    "using PyCall\n",
    "nnfs = pyimport(\"nnfs\")\n",
    "nnfs.init()\n",
    "nnfs_datasets = pyimport(\"nnfs.datasets\")\n",
    "spiral_data = nnfs_datasets.spiral_data"
   ]
  },
  {
   "cell_type": "code",
   "execution_count": 2,
   "id": "f7d1fea4-37d7-48a1-9094-b773a0450c37",
   "metadata": {},
   "outputs": [
    {
     "data": {
      "text/plain": [
       "(Float32[0.0 0.0; 0.002995557 0.009646608; … ; -0.9793868 -0.14387996; -0.9427888 0.33339068], UInt8[0x00, 0x00, 0x00, 0x00, 0x00, 0x00, 0x00, 0x00, 0x00, 0x00  …  0x02, 0x02, 0x02, 0x02, 0x02, 0x02, 0x02, 0x02, 0x02, 0x02])"
      ]
     },
     "execution_count": 2,
     "metadata": {},
     "output_type": "execute_result"
    }
   ],
   "source": [
    "X, y = spiral_data(samples=100, classes=3)"
   ]
  },
  {
   "cell_type": "code",
   "execution_count": 3,
   "id": "bfbc4cf7-21a6-42ee-9be8-91c3faba8513",
   "metadata": {},
   "outputs": [
    {
     "data": {
      "text/plain": [
       "Layer_Dense_forward (generic function with 1 method)"
      ]
     },
     "execution_count": 3,
     "metadata": {},
     "output_type": "execute_result"
    }
   ],
   "source": [
    "mutable struct Layer_Dense\n",
    "    weights::Matrix{Float64}\n",
    "    biases::Matrix{Float64}\n",
    "    function Layer_Dense(n_inputs::Int64, n_neurons::Int64)\n",
    "        new(0.01 * rand(Float64, (n_inputs, n_neurons)), zeros(Float64, 1, n_neurons))\n",
    "    end\n",
    "end\n",
    "\n",
    "function Layer_Dense_forward(layer_dense::Layer_Dense, inputs::Matrix{Float64})\n",
    "    return inputs * layer_dense.weights .+ layer_dense.biases\n",
    "end"
   ]
  },
  {
   "cell_type": "code",
   "execution_count": 4,
   "id": "c6aa9a8e-e37e-46f4-b5c9-591537eb351b",
   "metadata": {},
   "outputs": [
    {
     "data": {
      "text/plain": [
       "Activation_Relu_forward (generic function with 1 method)"
      ]
     },
     "execution_count": 4,
     "metadata": {},
     "output_type": "execute_result"
    }
   ],
   "source": [
    "function Activation_Relu_forward(inputs::Matrix{Float64})\n",
    "    return max.(0, inputs)\n",
    "    #return maximum(inputs, dims=2)\n",
    "end"
   ]
  },
  {
   "cell_type": "code",
   "execution_count": 5,
   "id": "c7fac2de-45bb-4602-9ce6-bf8781e53131",
   "metadata": {},
   "outputs": [
    {
     "data": {
      "text/plain": [
       "Activation_Softmax_forward (generic function with 1 method)"
      ]
     },
     "execution_count": 5,
     "metadata": {},
     "output_type": "execute_result"
    }
   ],
   "source": [
    "function Activation_Softmax_forward(inputs::Matrix{Float64})\n",
    "    exp_values = exp.(inputs .- maximum(inputs, dims=2))\n",
    "    \n",
    "    return probabilities = exp_values ./ sum(exp_values, dims=2)\n",
    "end"
   ]
  },
  {
   "cell_type": "code",
   "execution_count": 6,
   "id": "e84b5c5c-c602-426a-9f96-1e489a51adfd",
   "metadata": {},
   "outputs": [
    {
     "data": {
      "text/plain": [
       "Layer_Dense([0.005749258570919932 0.002662560631700419 0.008008369659216103; 0.00939479417643317 0.007257382713513387 0.0021909101266280396], [0.0 0.0 0.0])"
      ]
     },
     "execution_count": 6,
     "metadata": {},
     "output_type": "execute_result"
    }
   ],
   "source": [
    "dense1 = Layer_Dense(2, 3)"
   ]
  },
  {
   "cell_type": "code",
   "execution_count": 15,
   "id": "f0373b67-7c60-4d8c-a645-e944b2819ea0",
   "metadata": {},
   "outputs": [
    {
     "data": {
      "text/plain": [
       "2×3 Matrix{Float64}:\n",
       " 0.00574926  0.00266256  0.00800837\n",
       " 0.00939479  0.00725738  0.00219091"
      ]
     },
     "execution_count": 15,
     "metadata": {},
     "output_type": "execute_result"
    }
   ],
   "source": [
    "dense1.weights"
   ]
  },
  {
   "cell_type": "code",
   "execution_count": 18,
   "id": "72ebf21b-3ef3-4a3e-a0e2-5d0dafccb8c7",
   "metadata": {},
   "outputs": [
    {
     "data": {
      "text/plain": [
       "2×3 Matrix{Float64}:\n",
       " -0.0130653   0.0165813   -0.00118164\n",
       " -0.00680178  0.00666383  -0.0046072"
      ]
     },
     "execution_count": 18,
     "metadata": {},
     "output_type": "execute_result"
    }
   ],
   "source": [
    "dense1.weights = [-0.01306527  0.01658131 -0.00118164;\n",
    "       -0.00680178  0.00666383 -0.0046072 ]"
   ]
  },
  {
   "cell_type": "code",
   "execution_count": 7,
   "id": "0c96ea65-4335-433f-96cf-ebe8b624b1d2",
   "metadata": {},
   "outputs": [
    {
     "data": {
      "text/plain": [
       "(1, 3)"
      ]
     },
     "execution_count": 7,
     "metadata": {},
     "output_type": "execute_result"
    }
   ],
   "source": [
    "size(dense1.biases)"
   ]
  },
  {
   "cell_type": "code",
   "execution_count": 8,
   "id": "90c41810-9f94-414d-a0e8-5f063b5d4431",
   "metadata": {},
   "outputs": [
    {
     "data": {
      "text/plain": [
       "(2, 3)"
      ]
     },
     "execution_count": 8,
     "metadata": {},
     "output_type": "execute_result"
    }
   ],
   "source": [
    "size(dense1.weights)"
   ]
  },
  {
   "cell_type": "code",
   "execution_count": 9,
   "id": "efcda036-6c07-4c96-a2c9-ea88acd91bc2",
   "metadata": {},
   "outputs": [
    {
     "data": {
      "text/plain": [
       "Layer_Dense([0.004182102707738766 0.002784672276187693 0.0076894473864766305; 0.0099513337164521 0.0027075113799880967 0.008081580590348289; 0.005606180407770341 0.0016458268498983387 0.007215120024938075], [0.0 0.0 0.0])"
      ]
     },
     "execution_count": 9,
     "metadata": {},
     "output_type": "execute_result"
    }
   ],
   "source": [
    "dense2 = Layer_Dense(3, 3)"
   ]
  },
  {
   "cell_type": "code",
   "execution_count": 19,
   "id": "dcee406a-fbc3-4cda-931a-5eb8cfa3106d",
   "metadata": {},
   "outputs": [
    {
     "data": {
      "text/plain": [
       "3×3 Matrix{Float64}:\n",
       " -0.0133426   -0.0134672    0.00693773\n",
       " -0.00159573  -0.00133702   0.0107774\n",
       " -0.0112683   -0.00730678  -0.0038488"
      ]
     },
     "execution_count": 19,
     "metadata": {},
     "output_type": "execute_result"
    }
   ],
   "source": [
    "dense2.weights = [-0.01334258 -0.01346717  0.00693773;\n",
    "       -0.00159573 -0.00133702  0.01077744;\n",
    "       -0.01126826 -0.00730678 -0.0038488 ]"
   ]
  },
  {
   "cell_type": "code",
   "execution_count": 20,
   "id": "ef621cbf-f831-4c16-9066-8706850c7d9c",
   "metadata": {},
   "outputs": [
    {
     "data": {
      "text/plain": [
       "300×3 Matrix{Float64}:\n",
       "  0.0           0.0           0.0\n",
       " -0.000104752   0.000113954  -4.79835e-5\n",
       " -0.000274148   0.000317292  -8.69218e-5\n",
       " -0.000421884   0.000526663  -5.59127e-5\n",
       " -0.000577077   0.000714014  -8.94304e-5\n",
       " -0.000354307   0.000350255  -0.000233635\n",
       " -0.00089267    0.00107679   -0.000194532\n",
       " -0.000933508   0.00107238   -0.000312274\n",
       " -0.00112438    0.00131128   -0.000336297\n",
       " -0.0013387     0.00162009   -0.000281018\n",
       " -0.0014878     0.00179484   -0.00032386\n",
       " -0.00120036    0.00158119    8.65948e-6\n",
       " -0.00156528    0.00199173   -0.000130997\n",
       "  ⋮                          \n",
       "  0.0129803    -0.0154693     0.00321064\n",
       "  0.0127419    -0.0158119     0.00188052\n",
       "  0.0111397    -0.0125693     0.00418793\n",
       "  0.0123971    -0.0143231     0.00398122\n",
       "  0.00645469   -0.00922423   -0.00151018\n",
       "  0.0121351    -0.0138639     0.00421446\n",
       "  0.0139591    -0.0169567     0.00280168\n",
       "  0.00985511   -0.0131001    -0.000311079\n",
       "  0.0132608    -0.0166402     0.00158308\n",
       "  0.010809     -0.0141844     3.14037e-5\n",
       "  0.0137746    -0.0171983     0.00182017\n",
       "  0.0100501    -0.013411     -0.000421961"
      ]
     },
     "execution_count": 20,
     "metadata": {},
     "output_type": "execute_result"
    }
   ],
   "source": [
    "dense1_output = Layer_Dense_forward(dense1, Float64.(X))"
   ]
  },
  {
   "cell_type": "code",
   "execution_count": 21,
   "id": "51e7b5ab-3141-409b-92cd-411450d9c3dc",
   "metadata": {},
   "outputs": [
    {
     "data": {
      "text/plain": [
       "300×3 Matrix{Float64}:\n",
       " 0.0         0.0          0.0\n",
       " 0.0         0.000113954  0.0\n",
       " 0.0         0.000317292  0.0\n",
       " 0.0         0.000526663  0.0\n",
       " 0.0         0.000714014  0.0\n",
       " 0.0         0.000350255  0.0\n",
       " 0.0         0.00107679   0.0\n",
       " 0.0         0.00107238   0.0\n",
       " 0.0         0.00131128   0.0\n",
       " 0.0         0.00162009   0.0\n",
       " 0.0         0.00179484   0.0\n",
       " 0.0         0.00158119   8.65948e-6\n",
       " 0.0         0.00199173   0.0\n",
       " ⋮                        \n",
       " 0.0129803   0.0          0.00321064\n",
       " 0.0127419   0.0          0.00188052\n",
       " 0.0111397   0.0          0.00418793\n",
       " 0.0123971   0.0          0.00398122\n",
       " 0.00645469  0.0          0.0\n",
       " 0.0121351   0.0          0.00421446\n",
       " 0.0139591   0.0          0.00280168\n",
       " 0.00985511  0.0          0.0\n",
       " 0.0132608   0.0          0.00158308\n",
       " 0.010809    0.0          3.14037e-5\n",
       " 0.0137746   0.0          0.00182017\n",
       " 0.0100501   0.0          0.0"
      ]
     },
     "execution_count": 21,
     "metadata": {},
     "output_type": "execute_result"
    }
   ],
   "source": [
    "activation1_output = Activation_Relu_forward(dense1_output)"
   ]
  },
  {
   "cell_type": "code",
   "execution_count": 26,
   "id": "9c82895b-1689-4769-ae25-3c0b7cda038f",
   "metadata": {},
   "outputs": [
    {
     "data": {
      "text/plain": [
       "300×3 Matrix{Float64}:\n",
       "  0.0           0.0          0.0\n",
       " -1.81839e-7   -1.52358e-7   1.22813e-6\n",
       " -5.06312e-7   -4.24225e-7   3.41959e-6\n",
       " -8.40411e-7   -7.04158e-7   5.67608e-6\n",
       " -1.13937e-6   -9.54651e-7   7.69524e-6\n",
       " -5.58912e-7   -4.68298e-7   3.77485e-6\n",
       " -1.71826e-6   -1.43969e-6   1.1605e-5\n",
       " -1.71123e-6   -1.43379e-6   1.15575e-5\n",
       " -2.09245e-6   -1.75321e-6   1.41322e-5\n",
       " -2.58523e-6   -2.16609e-6   1.74604e-5\n",
       " -2.86408e-6   -2.39974e-6   1.93438e-5\n",
       " -2.62073e-6   -2.17736e-6   1.70079e-5\n",
       " -3.17827e-6   -2.66299e-6   2.14658e-5\n",
       "  ⋮                          \n",
       " -0.00020937   -0.000198268  7.7697e-5\n",
       " -0.0001912    -0.000185338  8.11619e-5\n",
       " -0.000195823  -0.000180621  6.11658e-5\n",
       " -0.000210271  -0.000196044  7.06848e-5\n",
       " -8.61222e-5   -8.69264e-5   4.47809e-5\n",
       " -0.000209404  -0.00019422   6.79696e-5\n",
       " -0.00021782   -0.000208461  8.60613e-5\n",
       " -0.000131493  -0.00013272   6.83721e-5\n",
       " -0.000194772  -0.000190153  8.59069e-5\n",
       " -0.000144574  -0.000145796  7.48691e-5\n",
       " -0.000204299  -0.000198804  8.8559e-5\n",
       " -0.000134095  -0.000135347  6.97252e-5"
      ]
     },
     "execution_count": 26,
     "metadata": {},
     "output_type": "execute_result"
    }
   ],
   "source": [
    "dense2_output = Layer_Dense_forward(dense2, activation1_output)"
   ]
  },
  {
   "cell_type": "code",
   "execution_count": 27,
   "id": "c28eb4d7-811d-497d-9da5-559324809c0d",
   "metadata": {},
   "outputs": [
    {
     "data": {
      "text/plain": [
       "300×3 Matrix{Float64}:\n",
       " 0.333333  0.333333  0.333333\n",
       " 0.333333  0.333333  0.333334\n",
       " 0.333333  0.333333  0.333334\n",
       " 0.333333  0.333333  0.333335\n",
       " 0.333332  0.333332  0.333335\n",
       " 0.333333  0.333333  0.333334\n",
       " 0.333332  0.333332  0.333336\n",
       " 0.333332  0.333332  0.333336\n",
       " 0.333331  0.333332  0.333337\n",
       " 0.333331  0.333331  0.333338\n",
       " 0.333331  0.333331  0.333338\n",
       " 0.333331  0.333331  0.333338\n",
       " 0.333331  0.333331  0.333339\n",
       " ⋮                   \n",
       " 0.3333    0.333304  0.333396\n",
       " 0.333302  0.333304  0.333393\n",
       " 0.333303  0.333308  0.333389\n",
       " 0.333301  0.333305  0.333394\n",
       " 0.333319  0.333319  0.333363\n",
       " 0.333301  0.333306  0.333393\n",
       " 0.333299  0.333302  0.3334\n",
       " 0.333311  0.333311  0.333378\n",
       " 0.333302  0.333303  0.333395\n",
       " 0.333309  0.333309  0.333382\n",
       " 0.3333    0.333302  0.333398\n",
       " 0.333311  0.33331   0.333379"
      ]
     },
     "execution_count": 27,
     "metadata": {},
     "output_type": "execute_result"
    }
   ],
   "source": [
    "Activation_Softmax_forward(dense2_output)"
   ]
  },
  {
   "cell_type": "code",
   "execution_count": 13,
   "id": "e0f798ed-04df-4ede-8f6a-d8b9a6086179",
   "metadata": {},
   "outputs": [
    {
     "data": {
      "text/plain": [
       "300×3 Matrix{Float64}:\n",
       " 1.0       1.0       1.0\n",
       " 1.0       0.999999  1.0\n",
       " 0.999999  0.999997  1.0\n",
       " 0.999999  0.999997  1.0\n",
       " 0.999999  0.999996  1.0\n",
       " 0.999999  0.999995  1.0\n",
       " 0.999998  0.999993  1.0\n",
       " 0.999998  0.999991  1.0\n",
       " 0.999997  0.999989  1.0\n",
       " 0.999997  0.999989  1.0\n",
       " 0.999996  0.999988  1.0\n",
       " 0.999998  0.999994  1.0\n",
       " 0.999997  0.99999   1.0\n",
       " ⋮                   \n",
       " 1.0       1.0       1.0\n",
       " 1.0       1.0       1.0\n",
       " 1.0       1.0       1.0\n",
       " 1.0       1.0       1.0\n",
       " 1.0       0.999986  0.999999\n",
       " 1.0       1.0       1.0\n",
       " 1.0       1.0       1.0\n",
       " 1.0       1.0       1.0\n",
       " 1.0       1.0       1.0\n",
       " 1.0       1.0       1.0\n",
       " 1.0       1.0       1.0\n",
       " 1.0       1.0       1.0"
      ]
     },
     "execution_count": 13,
     "metadata": {},
     "output_type": "execute_result"
    }
   ],
   "source": [
    "exponent = exp.(dense2_output .- maximum(dense2_output, dims=2))"
   ]
  },
  {
   "cell_type": "code",
   "execution_count": 12,
   "id": "05399c2e-7246-47dc-a86f-f241853634b5",
   "metadata": {},
   "outputs": [
    {
     "ename": "LoadError",
     "evalue": "UndefVarError: dense1_output not defined",
     "output_type": "error",
     "traceback": [
      "UndefVarError: dense1_output not defined",
      "",
      "Stacktrace:",
      " [1] top-level scope",
      "   @ In[12]:1"
     ]
    }
   ],
   "source": [
    "max.(0, dense1_output)"
   ]
  },
  {
   "cell_type": "code",
   "execution_count": null,
   "id": "bb70efe7-25b6-4ff8-a7a5-497becd574c3",
   "metadata": {},
   "outputs": [],
   "source": []
  },
  {
   "cell_type": "code",
   "execution_count": null,
   "id": "fd24c438-72a3-42ee-bba1-0932894696ba",
   "metadata": {},
   "outputs": [],
   "source": []
  }
 ],
 "metadata": {
  "kernelspec": {
   "display_name": "Julia 1.8.5",
   "language": "julia",
   "name": "julia-1.8"
  },
  "language_info": {
   "file_extension": ".jl",
   "mimetype": "application/julia",
   "name": "julia",
   "version": "1.8.5"
  }
 },
 "nbformat": 4,
 "nbformat_minor": 5
}
