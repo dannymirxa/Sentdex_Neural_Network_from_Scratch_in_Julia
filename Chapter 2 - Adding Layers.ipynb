{
 "cells": [
  {
   "cell_type": "markdown",
   "id": "698f2e36-41be-4c4c-b8f7-a242d82850fd",
   "metadata": {},
   "source": [
    "# Adding Layers"
   ]
  },
  {
   "cell_type": "code",
   "execution_count": 1,
   "id": "e586eeee-f5dc-4822-b616-471f3cba4909",
   "metadata": {},
   "outputs": [
    {
     "data": {
      "text/plain": [
       "3-element Vector{Float64}:\n",
       " -1.0\n",
       "  2.0\n",
       " -0.5"
      ]
     },
     "execution_count": 1,
     "metadata": {},
     "output_type": "execute_result"
    }
   ],
   "source": [
    "inputs = [1 2 3 2.5;\n",
    "        2. 5. -1. 2; \n",
    "        -1.5 2.7 3.3 -0.8]\n",
    "weights = [0.2 0.8 -0.5 1;\n",
    "        0.5 -0.91 0.26 -0.5;\n",
    "        -0.26 -0.27 0.17 0.87]\n",
    "biases = [2, 3, 0.5]\n",
    "weights2 = [0.1 -0.14 0.5;\n",
    "        -0.5 0.12 -0.33;\n",
    "        -0.44 0.73 -0.13]\n",
    "biases2 = [-1, 2, -0.5]"
   ]
  },
  {
   "cell_type": "code",
   "execution_count": 8,
   "id": "5575ceb7-aa7f-4b5e-a386-f8bd49da6647",
   "metadata": {},
   "outputs": [
    {
     "data": {
      "text/plain": [
       "3×3 Matrix{Float64}:\n",
       " 4.8    1.21   2.385\n",
       " 8.9   -1.81   0.2\n",
       " 1.41   1.051  0.026"
      ]
     },
     "execution_count": 8,
     "metadata": {},
     "output_type": "execute_result"
    }
   ],
   "source": [
    "layer_outputs = inputs * weights' .+ biases'"
   ]
  },
  {
   "cell_type": "code",
   "execution_count": 9,
   "id": "901e1dfd-f009-4c49-9d79-bb3e3f2b002b",
   "metadata": {},
   "outputs": [
    {
     "data": {
      "text/plain": [
       "3×3 Matrix{Float64}:\n",
       "  0.5031   -1.04185  -2.03875\n",
       "  0.2434   -2.7332   -5.7633\n",
       " -0.99314   1.41254  -0.35655"
      ]
     },
     "execution_count": 9,
     "metadata": {},
     "output_type": "execute_result"
    }
   ],
   "source": [
    "layer_outputs * weights2' .+ biases2'"
   ]
  },
  {
   "cell_type": "code",
   "execution_count": 1,
   "id": "d7ecb7ef-c7c1-47c0-ae35-1a6790f289bb",
   "metadata": {},
   "outputs": [
    {
     "data": {
      "text/plain": [
       "PyObject <function create_data at 0x7fcf1ab51240>"
      ]
     },
     "execution_count": 1,
     "metadata": {},
     "output_type": "execute_result"
    }
   ],
   "source": [
    "using PyCall\n",
    "nnfs = pyimport(\"nnfs\")\n",
    "nnfs.init()\n",
    "nnfs_datasets = pyimport(\"nnfs.datasets\")\n",
    "spiral_data = nnfs_datasets.spiral_data"
   ]
  },
  {
   "cell_type": "code",
   "execution_count": 2,
   "id": "3fe76c02-9326-4c4d-abb9-2de3e14d6d10",
   "metadata": {},
   "outputs": [
    {
     "data": {
      "text/plain": [
       "(Float32[0.0 0.0; 0.002995557 0.009646608; … ; -0.9793868 -0.14387996; -0.9427888 0.33339068], UInt8[0x00, 0x00, 0x00, 0x00, 0x00, 0x00, 0x00, 0x00, 0x00, 0x00  …  0x02, 0x02, 0x02, 0x02, 0x02, 0x02, 0x02, 0x02, 0x02, 0x02])"
      ]
     },
     "execution_count": 2,
     "metadata": {},
     "output_type": "execute_result"
    }
   ],
   "source": [
    "X, y = spiral_data(samples=100, classes=3)"
   ]
  },
  {
   "cell_type": "code",
   "execution_count": 18,
   "id": "7f57d7e3-3497-421d-bce8-896e0e7ac00c",
   "metadata": {},
   "outputs": [
    {
     "data": {
      "text/plain": [
       "Layer_Dense"
      ]
     },
     "execution_count": 18,
     "metadata": {},
     "output_type": "execute_result"
    }
   ],
   "source": [
    "function Layer_Dense(n_inputs, n_neurons, inputs)\n",
    "    weights = 0.01 * rand(Float64, (n_inputs, n_neurons))\n",
    "    biases = zeros(Float64, 1, n_neurons)\n",
    "    output = inputs * weights .+ biases\n",
    "    return output\n",
    "end"
   ]
  },
  {
   "cell_type": "code",
   "execution_count": 19,
   "id": "38b8ac8b-44dc-4dcf-bc16-d1bf4245e41d",
   "metadata": {},
   "outputs": [
    {
     "data": {
      "text/plain": [
       "300×3 Matrix{Float64}:\n",
       "  0.0           0.0           0.0\n",
       "  8.41237e-5    0.000119543   9.5126e-5\n",
       "  0.00021234    0.000264311   0.000164412\n",
       "  0.000311014   0.000308977   8.27482e-5\n",
       "  0.000428043   0.0004389     0.00014151\n",
       "  0.000298971   0.000493924   0.000477769\n",
       "  0.000673504   0.000749498   0.000341798\n",
       "  0.000726339   0.000920474   0.000595479\n",
       "  0.00086679    0.00105866    0.000630131\n",
       "  0.00100785    0.00111053    0.000489149\n",
       "  0.00112244    0.00124872    0.000568873\n",
       "  0.000850966   0.000668454  -0.000131428\n",
       "  0.00113846    0.00105037    0.000139811\n",
       "  ⋮                          \n",
       " -0.00987072   -0.0113781    -0.00580542\n",
       " -0.00943217   -0.00957275   -0.00291873\n",
       " -0.00876092   -0.0115638    -0.0081153\n",
       " -0.00961232   -0.0120158    -0.00754537\n",
       " -0.00427974   -0.00175641    0.00390774\n",
       " -0.00947342   -0.0121604    -0.00808004\n",
       " -0.0104833    -0.0114184    -0.00481927\n",
       " -0.00693798   -0.00518671    0.00160389\n",
       " -0.00974062   -0.00949289   -0.00221958\n",
       " -0.00768492   -0.00615666    0.000944258\n",
       " -0.0101536    -0.0100814    -0.00268995\n",
       " -0.00705409   -0.00515784    0.00186468"
      ]
     },
     "execution_count": 19,
     "metadata": {},
     "output_type": "execute_result"
    }
   ],
   "source": [
    "Layer_Dense(2,3,X)"
   ]
  },
  {
   "cell_type": "code",
   "execution_count": 9,
   "id": "ff25cf12-2d52-448c-b7e9-976e7f2cdf36",
   "metadata": {},
   "outputs": [
    {
     "data": {
      "text/plain": [
       "(300, 2)"
      ]
     },
     "execution_count": 9,
     "metadata": {},
     "output_type": "execute_result"
    }
   ],
   "source": [
    "size(X)"
   ]
  },
  {
   "cell_type": "code",
   "execution_count": 10,
   "id": "66bb5abe-1d74-448f-9258-7e6a6e8db193",
   "metadata": {},
   "outputs": [
    {
     "data": {
      "text/plain": [
       "Matrix{Float32}\u001b[90m (alias for \u001b[39m\u001b[90mArray{Float32, 2}\u001b[39m\u001b[90m)\u001b[39m"
      ]
     },
     "execution_count": 10,
     "metadata": {},
     "output_type": "execute_result"
    }
   ],
   "source": [
    "typeof(X)"
   ]
  },
  {
   "cell_type": "code",
   "execution_count": null,
   "id": "9d868070-25ee-4b60-8780-a3c2fa802251",
   "metadata": {},
   "outputs": [],
   "source": [
    "function initialize(LayerDense, n_inputs, n_neurons)\n",
    "    weights = 0.01 * rand(Float64, (n_inputs, n_neurons))\n",
    "    biases = zeros(Float64, 1, n_neurons)\n",
    "    return weights, biases\n",
    "end"
   ]
  },
  {
   "cell_type": "code",
   "execution_count": 20,
   "id": "6fa915c5-5179-4b6f-9fc1-5a43740460ee",
   "metadata": {},
   "outputs": [],
   "source": [
    "mutable struct LayerDense\n",
    "    n_inputs\n",
    "    n_neurons\n",
    "    weights\n",
    "    biases\n",
    "    initialize\n",
    "    forward\n",
    "    output\n",
    "\n",
    "    function LayerDense(n_inputs, n_neurons)\n",
    "        this = new()\n",
    "\n",
    "        this.n_inputs = n_inputs\n",
    "        this.n_neurons = n_neurons\n",
    "        \n",
    "        this.initialize = function()\n",
    "            this.weights = 0.01 * rand(Float64, (this.n_inputs, this.n_neurons))\n",
    "            this.biases = zeros(Float64, 1, this.n_neurons)\n",
    "        end\n",
    "\n",
    "        this.forward = function(inputs)\n",
    "            this.output = inputs * this.weights .+ this.biases\n",
    "            return this.output\n",
    "        end\n",
    "\n",
    "        return this\n",
    "    end\n",
    "end"
   ]
  },
  {
   "cell_type": "code",
   "execution_count": 21,
   "id": "cd6c23bf-d1aa-4a8c-a88e-6864d27c2767",
   "metadata": {},
   "outputs": [
    {
     "data": {
      "text/plain": [
       "300×3 Matrix{Float64}:\n",
       "  0.0           0.0           0.0\n",
       "  9.80655e-5    4.26857e-5    7.10069e-5\n",
       "  0.000220295   7.86892e-5    0.000139883\n",
       "  0.000265797   5.45866e-5    0.000122724\n",
       "  0.000375751   8.57297e-5    0.000183262\n",
       "  0.000398779   0.000205322   0.000324969\n",
       "  0.000634089   0.00018062    0.000350282\n",
       "  0.000765456   0.000281867   0.000495686\n",
       "  0.00088451    0.000305475   0.000549696\n",
       "  0.000940839   0.000261715   0.000512567\n",
       "  0.00105648    0.000300725   0.000583376\n",
       "  0.000598505   1.20082e-5    0.000149782\n",
       "  0.000914271   0.000137216   0.000364455\n",
       "  ⋮                          \n",
       " -0.0095795    -0.00295269   -0.00554747\n",
       " -0.0082081    -0.00181252   -0.00393457\n",
       " -0.00956833   -0.00375783   -0.00646371\n",
       " -0.0100094    -0.00360156   -0.00638567\n",
       " -0.00184192    0.00118579    0.000934369\n",
       " -0.0100964    -0.00379659   -0.00662799\n",
       " -0.00968954   -0.00261914   -0.00519186\n",
       " -0.00468812    0.000106428  -0.000944461\n",
       " -0.00819064   -0.00156681   -0.0036502\n",
       " -0.00549228   -0.000201576  -0.00147877\n",
       " -0.00867326   -0.00177765   -0.00400054\n",
       " -0.00468241    0.000198001  -0.000838665"
      ]
     },
     "execution_count": 21,
     "metadata": {},
     "output_type": "execute_result"
    }
   ],
   "source": [
    "dense = LayerDense(2, 3)\n",
    "dense.initialize()\n",
    "dense.forward(X)"
   ]
  },
  {
   "cell_type": "code",
   "execution_count": 7,
   "id": "f7ba09ba-925a-4283-804c-87848360f655",
   "metadata": {},
   "outputs": [
    {
     "data": {
      "text/plain": [
       "forward (generic function with 1 method)"
      ]
     },
     "execution_count": 7,
     "metadata": {},
     "output_type": "execute_result"
    }
   ],
   "source": [
    "mutable struct Layer_Dense\n",
    "    weights\n",
    "    biases\n",
    "    output\n",
    "end\n",
    "\n",
    "function initialize(Layer_Dense, n_inputs, n_neurons)\n",
    "    Layer_Dense.weights = 0.01 * rand(Float64, (n_inputs, n_neurons))\n",
    "    Layer_Dense.biases = zeros(Float64, 1, n_neurons)\n",
    "end\n",
    "\n",
    "function forward(Layer_Dense, inputs)\n",
    "    output = inputs * Layer_Dense.weights .+ Layer_Dense.biases\n",
    "    return output\n",
    "end"
   ]
  },
  {
   "cell_type": "code",
   "execution_count": 8,
   "id": "bb2fc0bf-75a7-4439-8c87-4dfaf869c003",
   "metadata": {},
   "outputs": [
    {
     "data": {
      "text/plain": [
       "300×3 Matrix{Float64}:\n",
       "  0.0           0.0           0.0\n",
       "  2.33784e-5    4.27533e-5    7.77123e-6\n",
       "  4.32891e-5    8.70801e-5    2.08036e-5\n",
       "  3.05791e-5    8.40412e-5    3.29517e-5\n",
       "  4.78225e-5    0.000123268   4.49173e-5\n",
       "  0.000112097   0.000190392   2.54261e-5\n",
       "  9.99888e-5    0.000226747   6.88053e-5\n",
       "  0.000154948   0.000306976   7.06427e-5\n",
       "  0.000168193   0.000344181   8.5566e-5\n",
       "  0.000144989   0.000333166   0.000103313\n",
       "  0.000166481   0.000377681   0.000114681\n",
       "  9.3532e-6     0.000131457   9.57748e-5\n",
       "  7.80647e-5    0.000262745   0.000123179\n",
       "  ⋮                          \n",
       " -0.00163075   -0.00354226   -0.000995902\n",
       " -0.00101236   -0.00266136   -0.000992909\n",
       " -0.00206266   -0.0039594    -0.000837435\n",
       " -0.00198097   -0.00397025   -0.000940139\n",
       "  0.000627236   0.000232482  -0.00053263\n",
       " -0.00208602   -0.00409005   -0.000916452\n",
       " -0.00145232   -0.00339151   -0.00107883\n",
       "  3.43008e-5   -0.000925256  -0.000789213\n",
       " -0.000880446  -0.00252969   -0.00103785\n",
       " -0.000134858  -0.00125395   -0.000861117\n",
       " -0.000995915  -0.0027405    -0.00107594\n",
       "  8.34589e-5   -0.000876352  -0.000806093"
      ]
     },
     "execution_count": 8,
     "metadata": {},
     "output_type": "execute_result"
    }
   ],
   "source": [
    "dense = Layer_Dense(0,0,0)\n",
    "initialize(dense, 2, 3)\n",
    "forward(dense, X)"
   ]
  },
  {
   "cell_type": "code",
   "execution_count": 1,
   "id": "41b781bc-4421-444f-881e-3dac1c03c3dc",
   "metadata": {},
   "outputs": [
    {
     "data": {
      "text/plain": [
       "PyObject <function create_data at 0x7f719fb01240>"
      ]
     },
     "execution_count": 1,
     "metadata": {},
     "output_type": "execute_result"
    }
   ],
   "source": [
    "using PyCall\n",
    "nnfs = pyimport(\"nnfs\")\n",
    "nnfs.init()\n",
    "nnfs_datasets = pyimport(\"nnfs.datasets\")\n",
    "spiral_data = nnfs_datasets.spiral_data"
   ]
  },
  {
   "cell_type": "code",
   "execution_count": 2,
   "id": "ca775a81-f280-4e17-9648-ea5a3936ec5b",
   "metadata": {},
   "outputs": [
    {
     "data": {
      "text/plain": [
       "(Float32[0.0 0.0; 0.002995557 0.009646608; … ; -0.9793868 -0.14387996; -0.9427888 0.33339068], UInt8[0x00, 0x00, 0x00, 0x00, 0x00, 0x00, 0x00, 0x00, 0x00, 0x00  …  0x02, 0x02, 0x02, 0x02, 0x02, 0x02, 0x02, 0x02, 0x02, 0x02])"
      ]
     },
     "execution_count": 2,
     "metadata": {},
     "output_type": "execute_result"
    }
   ],
   "source": [
    "X, y = spiral_data(samples=100, classes=3)"
   ]
  },
  {
   "cell_type": "code",
   "execution_count": 3,
   "id": "72d35450-273b-4c98-8c74-27f35553ca39",
   "metadata": {},
   "outputs": [
    {
     "data": {
      "text/plain": [
       "3"
      ]
     },
     "execution_count": 3,
     "metadata": {},
     "output_type": "execute_result"
    }
   ],
   "source": [
    "n_inputs = 2\n",
    "n_neurons = 3"
   ]
  },
  {
   "cell_type": "code",
   "execution_count": 4,
   "id": "2eae32c4-14ff-4e9e-83ca-cb233019f71d",
   "metadata": {},
   "outputs": [
    {
     "data": {
      "text/plain": [
       "2×3 Matrix{Float64}:\n",
       " 0.348539  0.485843  0.366239\n",
       " 0.853947  0.377604  0.233105"
      ]
     },
     "execution_count": 4,
     "metadata": {},
     "output_type": "execute_result"
    }
   ],
   "source": [
    "random_number = rand(Float64, (n_inputs, n_neurons))"
   ]
  },
  {
   "cell_type": "code",
   "execution_count": 11,
   "id": "8c9b164a-aa48-4302-a646-eaedf9370f41",
   "metadata": {},
   "outputs": [
    {
     "data": {
      "text/plain": [
       "forward (generic function with 1 method)"
      ]
     },
     "execution_count": 11,
     "metadata": {},
     "output_type": "execute_result"
    }
   ],
   "source": [
    "mutable struct LayerDense\n",
    "    # these will change under training and used in forward inference\n",
    "    weights\n",
    "    biases     # constructor method; no need to define setter: LayerDense(weights::Array{Float64, 2}, biases::Vector{Float64})\n",
    "    function LayerDense(n_inputs::Int64, n_neurons::Int64; random=true)\n",
    "        new(\n",
    "            # weights\n",
    "            random ? 0.01 * rand(Float64, (n_inputs, n_neurons)) : zeros(Float64, n_neurons, n_inputs),\n",
    "            # biases\n",
    "            zeros(Float64, n_neurons)\n",
    "        )\n",
    "    end\n",
    "end # multiple dispatch pattern for the \"method\"\n",
    "function forward(ld::LayerDense, inputs::Vector{Float64})::Vector{Float64}\n",
    "    return ld.weights * inputs + ld.biases\n",
    "end"
   ]
  },
  {
   "cell_type": "code",
   "execution_count": 5,
   "id": "daa1b3fb-978b-4343-957e-fc102bf4120e",
   "metadata": {},
   "outputs": [
    {
     "data": {
      "text/plain": [
       "Layer_Dense (generic function with 1 method)"
      ]
     },
     "execution_count": 5,
     "metadata": {},
     "output_type": "execute_result"
    }
   ],
   "source": [
    "function Layer_Dense(n_inputs, n_neurons, inputs)\n",
    "    weights = 0.01 * random_number\n",
    "    biases = zeros(Float64, 1, n_neurons)\n",
    "    output = inputs * weights .+ biases\n",
    "    return output\n",
    "end"
   ]
  },
  {
   "cell_type": "code",
   "execution_count": 6,
   "id": "54afe2e2-36f1-4162-bf56-2aeb820f3c41",
   "metadata": {},
   "outputs": [
    {
     "data": {
      "text/plain": [
       "300×3 Matrix{Float64}:\n",
       "  0.0           0.0           0.0\n",
       "  8.32332e-5    1.10425e-5    7.81023e-5\n",
       "  0.000166291   2.28306e-5    0.000178112\n",
       "  0.000152107   2.29116e-5    0.000221147\n",
       "  0.000225327   3.33729e-5    0.000311305\n",
       "  0.000376637   4.85494e-5    0.000312687\n",
       "  0.000423476   6.04462e-5    0.000519771\n",
       "  0.000587966   8.02993e-5    0.000617575\n",
       "  0.000655085   9.0465e-5     0.000716761\n",
       "  0.000620784   8.89664e-5    0.000772191\n",
       "  0.000705314   0.000100687   0.000866046\n",
       "  0.00020913    3.88538e-5    0.00051513\n",
       "  0.00046242    7.30047e-5    0.00076851\n",
       "  ⋮                          \n",
       " -0.00666701   -0.000938913  -0.00781777\n",
       " -0.00484975   -0.000722101  -0.00680963\n",
       " -0.00763163   -0.00103068   -0.00768351\n",
       " -0.00758718   -0.00104035   -0.0080887\n",
       "  0.000826853   2.08535e-5   -0.00177458\n",
       " -0.00785      -0.00106819   -0.00813362\n",
       " -0.00630168   -0.000907496  -0.00796446\n",
       " -0.00139702   -0.000281319  -0.00406607\n",
       " -0.00454858   -0.000692789  -0.00683258\n",
       " -0.00202901   -0.000367043  -0.00471304\n",
       " -0.00495913   -0.000747222  -0.00721684\n",
       " -0.00128504   -0.000270444  -0.00407531"
      ]
     },
     "execution_count": 6,
     "metadata": {},
     "output_type": "execute_result"
    }
   ],
   "source": [
    "Layer_Dense(2,3,X)"
   ]
  },
  {
   "cell_type": "code",
   "execution_count": 6,
   "id": "095a8ad9-a33a-4872-a5d6-d8b456115912",
   "metadata": {},
   "outputs": [
    {
     "ename": "LoadError",
     "evalue": "UndefVarError: LayerDense not defined",
     "output_type": "error",
     "traceback": [
      "UndefVarError: LayerDense not defined",
      "",
      "Stacktrace:",
      " [1] top-level scope",
      "   @ In[6]:1"
     ]
    }
   ],
   "source": [
    "dense = LayerDenseV(2,3)"
   ]
  },
  {
   "cell_type": "code",
   "execution_count": 5,
   "id": "01536cc6-9380-4ceb-8392-5f6c966894b5",
   "metadata": {},
   "outputs": [
    {
     "data": {
      "text/plain": [
       "2×3 Matrix{Float64}:\n",
       " 0.00724326  0.00235903  0.00540998\n",
       " 0.00435688  0.00181897  0.00711043"
      ]
     },
     "execution_count": 5,
     "metadata": {},
     "output_type": "execute_result"
    }
   ],
   "source": [
    "dense.weights"
   ]
  },
  {
   "cell_type": "code",
   "execution_count": 6,
   "id": "4cdbd0f6-fbcb-495c-9f88-aa9fdf4a6fc8",
   "metadata": {},
   "outputs": [
    {
     "data": {
      "text/plain": [
       "3-element Vector{Float64}:\n",
       " 0.0\n",
       " 0.0\n",
       " 0.0"
      ]
     },
     "execution_count": 6,
     "metadata": {},
     "output_type": "execute_result"
    }
   ],
   "source": [
    "dense.biases"
   ]
  },
  {
   "cell_type": "code",
   "execution_count": 7,
   "id": "616cc97a-8cbe-45a7-8f02-dcdbe98d9398",
   "metadata": {},
   "outputs": [
    {
     "data": {
      "text/plain": [
       "300×3 Matrix{Float64}:\n",
       "  0.0           0.0           0.0\n",
       "  6.37267e-5    2.46135e-5    8.47974e-5\n",
       "  0.000161106   5.86949e-5    0.000180344\n",
       "  0.000236495   7.88023e-5    0.000193791\n",
       "  0.000325393   0.000109707   0.000279008\n",
       "  0.000226018   9.38101e-5    0.000363548\n",
       "  0.000511594   0.000178021   0.000492037\n",
       "  0.000550976   0.000202275   0.000631621\n",
       "  0.000657784   0.000237738   0.000717926\n",
       "  0.00076564    0.000265384   0.000726361\n",
       "  0.00085261    0.000296651   0.000819677\n",
       "  0.000648259   0.000199383   0.000370949\n",
       "  0.000866227   0.000281059   0.000636774\n",
       "  ⋮                          \n",
       " -0.00749517   -0.00264514   -0.00756555\n",
       " -0.00717086   -0.00240841   -0.00605928\n",
       " -0.00664264   -0.00248209   -0.00803366\n",
       " -0.00729268   -0.00266169   -0.00820964\n",
       " -0.00327102   -0.000855514  -0.000420382\n",
       " -0.00718517   -0.00265242   -0.00837754\n",
       " -0.00796474   -0.00274823   -0.00743571\n",
       " -0.00528707   -0.00160144   -0.00278741\n",
       " -0.007408     -0.00245113   -0.00590373\n",
       " -0.00585351   -0.0018116    -0.00345798\n",
       " -0.00772082   -0.00257211   -0.00632151\n",
       " -0.00537632   -0.00161764   -0.00272992"
      ]
     },
     "execution_count": 7,
     "metadata": {},
     "output_type": "execute_result"
    }
   ],
   "source": [
    "forward(dense, X)"
   ]
  },
  {
   "cell_type": "code",
   "execution_count": 10,
   "id": "5244cfc9-e54e-460a-b8b0-48b3f6b0441e",
   "metadata": {},
   "outputs": [
    {
     "data": {
      "text/plain": [
       "300×3 Matrix{Float64}:\n",
       "  0.0           0.0           0.0\n",
       "  8.08152e-5    7.53484e-5    7.71744e-5\n",
       "  0.000134934   0.000169604   0.000131231\n",
       "  5.34463e-5    0.000205436   5.94821e-5\n",
       "  9.87573e-5    0.00029025    0.000105062\n",
       "  0.000414648   0.000305772   0.000391581\n",
       "  0.000264072   0.000489091   0.000265355\n",
       "  0.000491742   0.000589153   0.000476679\n",
       "  0.0005134     0.000681187   0.00050126\n",
       "  0.000374796   0.000725821   0.000378335\n",
       "  0.000439403   0.0008149     0.000441596\n",
       " -0.000180191   0.000464784  -0.000137737\n",
       "  4.68673e-5    0.000707645   8.07835e-5\n",
       "  ⋮                          \n",
       " -0.0045964    -0.0073845    -0.00455749\n",
       " -0.00199417   -0.00634156   -0.00214755\n",
       " -0.00678218   -0.00735987   -0.00653287\n",
       " -0.00620194   -0.00770567   -0.0060269\n",
       "  0.003868     -0.00145462    0.00341912\n",
       " -0.00669952   -0.00776936   -0.00648035\n",
       " -0.00365341   -0.00747662   -0.00370969\n",
       "  0.00195474   -0.00364465    0.00157001\n",
       " -0.00133453   -0.00633286   -0.00155053\n",
       "  0.00140593   -0.00426336    0.00104012\n",
       " -0.00173435   -0.00670367   -0.00193223\n",
       "  0.00220086   -0.00364203    0.00179274"
      ]
     },
     "execution_count": 10,
     "metadata": {},
     "output_type": "execute_result"
    }
   ],
   "source": [
    "X * dense.weights .+ dense.biases'"
   ]
  },
  {
   "cell_type": "code",
   "execution_count": 7,
   "id": "579c9175-0d92-4bbd-9679-b4c818b12880",
   "metadata": {},
   "outputs": [
    {
     "data": {
      "text/plain": [
       "forward2 (generic function with 1 method)"
      ]
     },
     "execution_count": 7,
     "metadata": {},
     "output_type": "execute_result"
    }
   ],
   "source": [
    "mutable struct LayerDense2\n",
    "    weights\n",
    "    biases\n",
    "    function LayerDense2(n_inputs::Int64, n_neurons::Int64)\n",
    "        new(0.01 * random_number, zeros(Float64, 1, n_neurons))\n",
    "    end\n",
    "end\n",
    "function forward2(LayerDense2, inputs)\n",
    "    return inputs * LayerDense2.weights .+ LayerDense2.biases\n",
    "end"
   ]
  },
  {
   "cell_type": "code",
   "execution_count": 8,
   "id": "51a763af-8524-426d-8d35-4a6ae4c1ccd8",
   "metadata": {},
   "outputs": [
    {
     "data": {
      "text/plain": [
       "LayerDense2([0.0039773970638304545 0.0006232131218292825 0.0064746778413247545; 0.007393135964187503 0.0009511787763520663 0.006085774141655438], [0.0 0.0 0.0])"
      ]
     },
     "execution_count": 8,
     "metadata": {},
     "output_type": "execute_result"
    }
   ],
   "source": [
    "dense2 = LayerDense2(2,3)"
   ]
  },
  {
   "cell_type": "code",
   "execution_count": 9,
   "id": "e4cd6930-8e2e-44f6-aa57-389960d8a5d6",
   "metadata": {},
   "outputs": [
    {
     "data": {
      "text/plain": [
       "300×3 Matrix{Float64}:\n",
       "  0.0           0.0           0.0\n",
       "  8.32332e-5    1.10425e-5    7.81023e-5\n",
       "  0.000166291   2.28306e-5    0.000178112\n",
       "  0.000152107   2.29116e-5    0.000221147\n",
       "  0.000225327   3.33729e-5    0.000311305\n",
       "  0.000376637   4.85494e-5    0.000312687\n",
       "  0.000423476   6.04462e-5    0.000519771\n",
       "  0.000587966   8.02993e-5    0.000617575\n",
       "  0.000655085   9.0465e-5     0.000716761\n",
       "  0.000620784   8.89664e-5    0.000772191\n",
       "  0.000705314   0.000100687   0.000866046\n",
       "  0.00020913    3.88538e-5    0.00051513\n",
       "  0.00046242    7.30047e-5    0.00076851\n",
       "  ⋮                          \n",
       " -0.00666701   -0.000938913  -0.00781777\n",
       " -0.00484975   -0.000722101  -0.00680963\n",
       " -0.00763163   -0.00103068   -0.00768351\n",
       " -0.00758718   -0.00104035   -0.0080887\n",
       "  0.000826853   2.08535e-5   -0.00177458\n",
       " -0.00785      -0.00106819   -0.00813362\n",
       " -0.00630168   -0.000907496  -0.00796446\n",
       " -0.00139702   -0.000281319  -0.00406607\n",
       " -0.00454858   -0.000692789  -0.00683258\n",
       " -0.00202901   -0.000367043  -0.00471304\n",
       " -0.00495913   -0.000747222  -0.00721684\n",
       " -0.00128504   -0.000270444  -0.00407531"
      ]
     },
     "execution_count": 9,
     "metadata": {},
     "output_type": "execute_result"
    }
   ],
   "source": [
    "forward2(dense2, X)"
   ]
  },
  {
   "cell_type": "code",
   "execution_count": null,
   "id": "1f66223c-a56f-4d48-9b00-ea24ebad4921",
   "metadata": {},
   "outputs": [],
   "source": []
  }
 ],
 "metadata": {
  "kernelspec": {
   "display_name": "Julia 1.8.5",
   "language": "julia",
   "name": "julia-1.8"
  },
  "language_info": {
   "file_extension": ".jl",
   "mimetype": "application/julia",
   "name": "julia",
   "version": "1.8.5"
  }
 },
 "nbformat": 4,
 "nbformat_minor": 5
}
